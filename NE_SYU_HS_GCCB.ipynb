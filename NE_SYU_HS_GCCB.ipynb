{
  "cells": [
    {
      "cell_type": "markdown",
      "source": [
        "# NE_SYU_HS_GCCB 세팅하기\n",
        "대화 코드 실행 전 아래의 실행 버튼을 눌러 세팅 코드 실행 필수!!"
      ],
      "metadata": {
        "id": "CLDrtsTbBV0m"
      }
    },
    {
      "cell_type": "code",
      "execution_count": null,
      "metadata": {
        "id": "lIvrW0AlBC9n"
      },
      "outputs": [],
      "source": [
        "!pip install -q -U google-generativeai\n",
        "\n",
        "import base64, os, textwrap\n",
        "import google.generativeai as genai\n",
        "\n",
        "from IPython.display import display, Markdown\n",
        "from google.colab import userdata, files\n",
        "from base64 import b64decode\n",
        "\n",
        "GOOGLE_API_KEY=userdata.get('GOOGLE_API_KEY')\n",
        "genai.configure(api_key=GOOGLE_API_KEY)\n",
        "\n",
        "SYU_HS = userdata.get('SYU_HS')\n",
        "NEW = userdata.get('NEW')\n",
        "SSK = userdata.get('SSK')\n",
        "BLUE = userdata.get('BLUE')\n",
        "End = userdata.get('End')\n",
        "\n",
        "def to_markdown(text):\n",
        "  text = text.replace('•', ' *')\n",
        "  return Markdown(textwrap.indent(text, '> ', predicate=lambda _: True))"
      ]
    },
    {
      "cell_type": "markdown",
      "source": [
        "# 수야와 대화하기 / Talk with SUYA"
      ],
      "metadata": {
        "id": "ItWHVkkFB1pA"
      }
    },
    {
      "cell_type": "code",
      "execution_count": null,
      "metadata": {
        "id": "W6IdQIsCD4es"
      },
      "outputs": [],
      "source": [
        "Fan = input('사용자 이름을 입력하세요: ')\n",
        "model=genai.GenerativeModel(model_name=\"gemini-2.0-flash-lite\", system_instruction= SYU_HS + NEW + SSK + BLUE )\n",
        "\n",
        "while True:\n",
        "  USER = input('수야와 대화를 나눠보세요: ')\n",
        "\n",
        "  if USER == 'F':\n",
        "    response = model.generate_content(End)\n",
        "    markdown_text = to_markdown(response.text)\n",
        "    display(markdown_text)\n",
        "    break\n",
        "\n",
        "  else:\n",
        "    response = model.generate_content(USER)\n",
        "    markdown_text = to_markdown(response.text)\n",
        "    display(markdown_text)"
      ]
    }
  ],
  "metadata": {
    "colab": {
      "provenance": [],
      "collapsed_sections": [
        "CLDrtsTbBV0m"
      ],
      "authorship_tag": "ABX9TyOJZamyQLY4KcVkxCw5IbDX"
    },
    "kernelspec": {
      "display_name": "Python 3",
      "name": "python3"
    },
    "language_info": {
      "name": "python"
    }
  },
  "nbformat": 4,
  "nbformat_minor": 0
}